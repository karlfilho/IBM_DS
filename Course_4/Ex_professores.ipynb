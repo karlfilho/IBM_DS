{
 "cells": [
  {
   "cell_type": "code",
   "execution_count": 29,
   "metadata": {},
   "outputs": [],
   "source": [
    "class Professor():\n",
    "\n",
    "    def __init__(self, nome, turno, especialidade):\n",
    "        self.nome = nome\n",
    "        self.turno = turno\n",
    "        self.especialidade = especialidade\n",
    "\n",
    "    def qualNome(self):\n",
    "        return self.nome\n",
    "    \n",
    "    def qualTurno(self):\n",
    "        return self.turno\n",
    "    \n",
    "    def qualEspecialidade(self):\n",
    "        return self.especialidade\n",
    "\n",
    "    def ferias(self):\n",
    "        return self.ferias\n",
    "\n",
    "    def print_info(self):\n",
    "        print(f\"Informações do Professor {self.nome}\")\n",
    "        print(f\"Turno: {self.turno} \\nEspecialidade: {self.especialidade} \\nFérias: {self.ferias}\")"
   ]
  },
  {
   "cell_type": "code",
   "execution_count": 30,
   "metadata": {},
   "outputs": [
    {
     "name": "stdout",
     "output_type": "stream",
     "text": [
      "Informações do Professor Karl Richard\n",
      "Turno: Manhã \n",
      "Especialidade: Obstetricia \n",
      "Férias: True\n"
     ]
    }
   ],
   "source": [
    "KarlRichard = Professor(\"Karl Richard\", \"Manhã\", \"Obstetricia\")\n",
    "KarlRichard.ferias = True\n",
    "KarlRichard.print_info()"
   ]
  },
  {
   "cell_type": "code",
   "execution_count": 31,
   "metadata": {},
   "outputs": [],
   "source": [
    "class Circle(object):\n",
    "    # Constructor\n",
    "    def __init__(self, radius=3, color='blue'):\n",
    "        self.radius = radius\n",
    "        self.color = color\n",
    "        \n",
    "    # Method\n",
    "    def add_radius(self, r):\n",
    "        self.radius = self.radius + r\n",
    "        return self.radius"
   ]
  },
  {
   "cell_type": "code",
   "execution_count": 32,
   "metadata": {},
   "outputs": [],
   "source": [
    "circle1 = Circle()\n",
    "circle1.radius = 10"
   ]
  },
  {
   "cell_type": "code",
   "execution_count": 36,
   "metadata": {},
   "outputs": [
    {
     "name": "stdout",
     "output_type": "stream",
     "text": [
      "10 blue\n"
     ]
    }
   ],
   "source": [
    "print(circle1.radius, circle1.color)"
   ]
  },
  {
   "cell_type": "code",
   "execution_count": null,
   "metadata": {},
   "outputs": [],
   "source": []
  }
 ],
 "metadata": {
  "kernelspec": {
   "display_name": "Python (IBM-DS)",
   "language": "python",
   "name": "ibm-ds"
  },
  "language_info": {
   "codemirror_mode": {
    "name": "ipython",
    "version": 3
   },
   "file_extension": ".py",
   "mimetype": "text/x-python",
   "name": "python",
   "nbconvert_exporter": "python",
   "pygments_lexer": "ipython3",
   "version": "3.12.8"
  }
 },
 "nbformat": 4,
 "nbformat_minor": 2
}
